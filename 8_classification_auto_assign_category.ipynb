{
 "cells": [
  {
   "cell_type": "markdown",
   "id": "211dea7f-a1cd-4dee-b7fc-df872f8dd514",
   "metadata": {},
   "source": [
    "### Classification based on text (no numbers)\n",
    "**Task**: auto-assigning a product category based on the product's name."
   ]
  },
  {
   "cell_type": "code",
   "execution_count": null,
   "id": "201343c2-ea97-49c2-88f5-84f34e185628",
   "metadata": {},
   "outputs": [],
   "source": []
  }
 ],
 "metadata": {
  "kernelspec": {
   "display_name": "Python 3 (ipykernel)",
   "language": "python",
   "name": "python3"
  },
  "language_info": {
   "codemirror_mode": {
    "name": "ipython",
    "version": 3
   },
   "file_extension": ".py",
   "mimetype": "text/x-python",
   "name": "python",
   "nbconvert_exporter": "python",
   "pygments_lexer": "ipython3",
   "version": "3.8.10"
  }
 },
 "nbformat": 4,
 "nbformat_minor": 5
}

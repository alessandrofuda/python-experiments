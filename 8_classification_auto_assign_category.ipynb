{
 "cells": [
  {
   "cell_type": "markdown",
   "id": "211dea7f-a1cd-4dee-b7fc-df872f8dd514",
   "metadata": {},
   "source": [
    "### Classification based on text (no numbers)\n",
    "**Task**: auto-assigning a product category based on the product's name  (via `TF-IDF Vectorizer`)"
   ]
  },
  {
   "cell_type": "code",
   "execution_count": 31,
   "id": "201343c2-ea97-49c2-88f5-84f34e185628",
   "metadata": {},
   "outputs": [
    {
     "data": {
      "text/plain": [
       "(87, 2)"
      ]
     },
     "execution_count": 31,
     "metadata": {},
     "output_type": "execute_result"
    }
   ],
   "source": [
    "import pandas as pd\n",
    "from sklearn.model_selection import train_test_split\n",
    "from sklearn.ensemble import RandomForestClassifier\n",
    "from sklearn.feature_extraction.text import TfidfVectorizer\n",
    "from sklearn.metrics import accuracy_score\n",
    "\n",
    "df = pd.read_csv('data/devices-products-small.csv')\n",
    "\n",
    "df.shape"
   ]
  },
  {
   "cell_type": "code",
   "execution_count": 32,
   "id": "2a18878c-a6d4-474c-bbdc-62039f2577ef",
   "metadata": {},
   "outputs": [
    {
     "data": {
      "text/plain": [
       "Category\n",
       "computers    36\n",
       "tablets      29\n",
       "phones       22\n",
       "Name: count, dtype: int64"
      ]
     },
     "execution_count": 32,
     "metadata": {},
     "output_type": "execute_result"
    }
   ],
   "source": [
    "df['Category'].value_counts()"
   ]
  },
  {
   "cell_type": "code",
   "execution_count": 33,
   "id": "51ff9274-8f21-4c7a-876d-4dc81cfc6904",
   "metadata": {},
   "outputs": [
    {
     "data": {
      "text/plain": [
       "array(['tablets', 'computers', 'computers', 'phones', 'computers',\n",
       "       'computers', 'computers', 'tablets', 'computers', 'tablets',\n",
       "       'tablets', 'computers', 'computers', 'computers', 'tablets',\n",
       "       'computers', 'phones', 'computers', 'computers', 'tablets',\n",
       "       'phones', 'tablets'], dtype=object)"
      ]
     },
     "execution_count": 33,
     "metadata": {},
     "output_type": "execute_result"
    }
   ],
   "source": [
    "x = df['Product'].values\n",
    "y = df['Category'].values\n",
    "\n",
    "x_train, x_test, y_train, y_test = train_test_split(x, y)\n",
    "\n",
    "# vectorize to convert strings in 'valuable numbers'\n",
    "tfidf_vectorizer = TfidfVectorizer()\n",
    "tfidf_train_vectors = tfidf_vectorizer.fit_transform(x_train)\n",
    "tfidf_test_vectors = tfidf_vectorizer.transform(x_test)\n",
    "\n",
    "\n",
    "clf = RandomForestClassifier()\n",
    "clf.fit(tfidf_train_vectors, y_train)\n",
    "\n",
    "y_pred = clf.predict(tfidf_test_vectors)\n",
    "\n",
    "y_pred"
   ]
  },
  {
   "cell_type": "code",
   "execution_count": 34,
   "id": "4adb4728-f6aa-405e-a3a4-822c28acc3de",
   "metadata": {},
   "outputs": [
    {
     "data": {
      "text/html": [
       "<div>\n",
       "<style scoped>\n",
       "    .dataframe tbody tr th:only-of-type {\n",
       "        vertical-align: middle;\n",
       "    }\n",
       "\n",
       "    .dataframe tbody tr th {\n",
       "        vertical-align: top;\n",
       "    }\n",
       "\n",
       "    .dataframe thead th {\n",
       "        text-align: right;\n",
       "    }\n",
       "</style>\n",
       "<table border=\"1\" class=\"dataframe\">\n",
       "  <thead>\n",
       "    <tr style=\"text-align: right;\">\n",
       "      <th></th>\n",
       "      <th>product</th>\n",
       "      <th>predicted_category</th>\n",
       "      <th>real_category</th>\n",
       "    </tr>\n",
       "  </thead>\n",
       "  <tbody>\n",
       "    <tr>\n",
       "      <th>0</th>\n",
       "      <td>iPad Pro (12.9-inch, 1st generation)</td>\n",
       "      <td>tablets</td>\n",
       "      <td>tablets</td>\n",
       "    </tr>\n",
       "    <tr>\n",
       "      <th>1</th>\n",
       "      <td>MacBook Pro (Retina, 13-inch, Mid 2014)</td>\n",
       "      <td>computers</td>\n",
       "      <td>computers</td>\n",
       "    </tr>\n",
       "    <tr>\n",
       "      <th>2</th>\n",
       "      <td>MacBook Pro (Mid 2010)</td>\n",
       "      <td>computers</td>\n",
       "      <td>computers</td>\n",
       "    </tr>\n",
       "    <tr>\n",
       "      <th>3</th>\n",
       "      <td>Samsung Galaxy S21 Ultra (2021)</td>\n",
       "      <td>phones</td>\n",
       "      <td>phones</td>\n",
       "    </tr>\n",
       "    <tr>\n",
       "      <th>4</th>\n",
       "      <td>MacBook Pro (16-inch, 2019)</td>\n",
       "      <td>computers</td>\n",
       "      <td>computers</td>\n",
       "    </tr>\n",
       "    <tr>\n",
       "      <th>5</th>\n",
       "      <td>MacBook Pro (Mid 2009)</td>\n",
       "      <td>computers</td>\n",
       "      <td>computers</td>\n",
       "    </tr>\n",
       "    <tr>\n",
       "      <th>6</th>\n",
       "      <td>MacBook Pro (13-inch, Late 2016, Two Thunderbo...</td>\n",
       "      <td>computers</td>\n",
       "      <td>computers</td>\n",
       "    </tr>\n",
       "    <tr>\n",
       "      <th>7</th>\n",
       "      <td>iPad 2</td>\n",
       "      <td>tablets</td>\n",
       "      <td>tablets</td>\n",
       "    </tr>\n",
       "    <tr>\n",
       "      <th>8</th>\n",
       "      <td>MacBook Pro (Retina, 15-inch, Late 2013)</td>\n",
       "      <td>computers</td>\n",
       "      <td>computers</td>\n",
       "    </tr>\n",
       "    <tr>\n",
       "      <th>9</th>\n",
       "      <td>iPad Mini (5th generation)</td>\n",
       "      <td>tablets</td>\n",
       "      <td>tablets</td>\n",
       "    </tr>\n",
       "    <tr>\n",
       "      <th>10</th>\n",
       "      <td>iPad Mini</td>\n",
       "      <td>tablets</td>\n",
       "      <td>tablets</td>\n",
       "    </tr>\n",
       "    <tr>\n",
       "      <th>11</th>\n",
       "      <td>MacBook Pro (Late 2011)</td>\n",
       "      <td>computers</td>\n",
       "      <td>computers</td>\n",
       "    </tr>\n",
       "    <tr>\n",
       "      <th>12</th>\n",
       "      <td>MacBook Pro (Early 2011)</td>\n",
       "      <td>computers</td>\n",
       "      <td>computers</td>\n",
       "    </tr>\n",
       "    <tr>\n",
       "      <th>13</th>\n",
       "      <td>MacBook Pro (13-inch, 2020, Four Thunderbolt 3...</td>\n",
       "      <td>computers</td>\n",
       "      <td>computers</td>\n",
       "    </tr>\n",
       "    <tr>\n",
       "      <th>14</th>\n",
       "      <td>iPad (9th generation)</td>\n",
       "      <td>tablets</td>\n",
       "      <td>tablets</td>\n",
       "    </tr>\n",
       "    <tr>\n",
       "      <th>15</th>\n",
       "      <td>MacBook Pro (Late 2008)</td>\n",
       "      <td>computers</td>\n",
       "      <td>computers</td>\n",
       "    </tr>\n",
       "    <tr>\n",
       "      <th>16</th>\n",
       "      <td>Samsung Galaxy S10 (2019)</td>\n",
       "      <td>phones</td>\n",
       "      <td>phones</td>\n",
       "    </tr>\n",
       "    <tr>\n",
       "      <th>17</th>\n",
       "      <td>MacBook Pro (13-inch, 2019, Four Thunderbolt 3...</td>\n",
       "      <td>computers</td>\n",
       "      <td>computers</td>\n",
       "    </tr>\n",
       "    <tr>\n",
       "      <th>18</th>\n",
       "      <td>MacBook Pro (Mid 2012)</td>\n",
       "      <td>computers</td>\n",
       "      <td>computers</td>\n",
       "    </tr>\n",
       "    <tr>\n",
       "      <th>19</th>\n",
       "      <td>iPad Pro (10.5-inch)</td>\n",
       "      <td>tablets</td>\n",
       "      <td>tablets</td>\n",
       "    </tr>\n",
       "    <tr>\n",
       "      <th>20</th>\n",
       "      <td>Samsung Galaxy S20 (2020)</td>\n",
       "      <td>phones</td>\n",
       "      <td>phones</td>\n",
       "    </tr>\n",
       "    <tr>\n",
       "      <th>21</th>\n",
       "      <td>iPad Mini 3</td>\n",
       "      <td>tablets</td>\n",
       "      <td>tablets</td>\n",
       "    </tr>\n",
       "  </tbody>\n",
       "</table>\n",
       "</div>"
      ],
      "text/plain": [
       "                                              product predicted_category  \\\n",
       "0                iPad Pro (12.9-inch, 1st generation)            tablets   \n",
       "1             MacBook Pro (Retina, 13-inch, Mid 2014)          computers   \n",
       "2                              MacBook Pro (Mid 2010)          computers   \n",
       "3                     Samsung Galaxy S21 Ultra (2021)             phones   \n",
       "4                         MacBook Pro (16-inch, 2019)          computers   \n",
       "5                              MacBook Pro (Mid 2009)          computers   \n",
       "6   MacBook Pro (13-inch, Late 2016, Two Thunderbo...          computers   \n",
       "7                                              iPad 2            tablets   \n",
       "8            MacBook Pro (Retina, 15-inch, Late 2013)          computers   \n",
       "9                          iPad Mini (5th generation)            tablets   \n",
       "10                                          iPad Mini            tablets   \n",
       "11                            MacBook Pro (Late 2011)          computers   \n",
       "12                           MacBook Pro (Early 2011)          computers   \n",
       "13  MacBook Pro (13-inch, 2020, Four Thunderbolt 3...          computers   \n",
       "14                              iPad (9th generation)            tablets   \n",
       "15                            MacBook Pro (Late 2008)          computers   \n",
       "16                          Samsung Galaxy S10 (2019)             phones   \n",
       "17  MacBook Pro (13-inch, 2019, Four Thunderbolt 3...          computers   \n",
       "18                             MacBook Pro (Mid 2012)          computers   \n",
       "19                               iPad Pro (10.5-inch)            tablets   \n",
       "20                          Samsung Galaxy S20 (2020)             phones   \n",
       "21                                        iPad Mini 3            tablets   \n",
       "\n",
       "   real_category  \n",
       "0        tablets  \n",
       "1      computers  \n",
       "2      computers  \n",
       "3         phones  \n",
       "4      computers  \n",
       "5      computers  \n",
       "6      computers  \n",
       "7        tablets  \n",
       "8      computers  \n",
       "9        tablets  \n",
       "10       tablets  \n",
       "11     computers  \n",
       "12     computers  \n",
       "13     computers  \n",
       "14       tablets  \n",
       "15     computers  \n",
       "16        phones  \n",
       "17     computers  \n",
       "18     computers  \n",
       "19       tablets  \n",
       "20        phones  \n",
       "21       tablets  "
      ]
     },
     "execution_count": 34,
     "metadata": {},
     "output_type": "execute_result"
    }
   ],
   "source": [
    "df_compare = pd.DataFrame(\n",
    "    data={\n",
    "        'product': x_test,\n",
    "        'predicted_category': y_pred,\n",
    "        'real_category': y_test\n",
    "    },\n",
    "    columns=['product', 'predicted_category', 'real_category']\n",
    ")\n",
    "\n",
    "df_compare"
   ]
  },
  {
   "cell_type": "code",
   "execution_count": 35,
   "id": "2d339f9c-6dfd-4ee1-a835-08b0cebd6d4d",
   "metadata": {},
   "outputs": [
    {
     "data": {
      "text/plain": [
       "1.0"
      ]
     },
     "execution_count": 35,
     "metadata": {},
     "output_type": "execute_result"
    }
   ],
   "source": [
    "accuracy_score(y_test, y_pred)"
   ]
  },
  {
   "cell_type": "code",
   "execution_count": null,
   "id": "8e13f332-d7d9-4998-ba4b-e08ba4070488",
   "metadata": {},
   "outputs": [],
   "source": []
  },
  {
   "cell_type": "code",
   "execution_count": null,
   "id": "2d119d82-567b-4b9d-9e5d-038ba0d6024c",
   "metadata": {},
   "outputs": [],
   "source": []
  },
  {
   "cell_type": "code",
   "execution_count": null,
   "id": "9d01865a-5759-49e7-ab43-cee780a93884",
   "metadata": {},
   "outputs": [],
   "source": []
  },
  {
   "cell_type": "code",
   "execution_count": null,
   "id": "dc1dbc94-b36f-4448-b58c-56d99365e3fa",
   "metadata": {},
   "outputs": [],
   "source": []
  },
  {
   "cell_type": "code",
   "execution_count": null,
   "id": "4b9cf7c9-e66b-4f84-94f0-91984b41ae84",
   "metadata": {},
   "outputs": [],
   "source": []
  }
 ],
 "metadata": {
  "kernelspec": {
   "display_name": "Python 3 (ipykernel)",
   "language": "python",
   "name": "python3"
  },
  "language_info": {
   "codemirror_mode": {
    "name": "ipython",
    "version": 3
   },
   "file_extension": ".py",
   "mimetype": "text/x-python",
   "name": "python",
   "nbconvert_exporter": "python",
   "pygments_lexer": "ipython3",
   "version": "3.8.10"
  }
 },
 "nbformat": 4,
 "nbformat_minor": 5
}

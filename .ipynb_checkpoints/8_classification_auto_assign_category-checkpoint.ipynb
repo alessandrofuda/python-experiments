{
 "cells": [
  {
   "cell_type": "markdown",
   "id": "211dea7f-a1cd-4dee-b7fc-df872f8dd514",
   "metadata": {},
   "source": [
    "### Classification based on text (no numbers)\n",
    "**Task**: auto-assigning a product category based on the product's name  (via `TF-IDF Vectorizer`)"
   ]
  },
  {
   "cell_type": "code",
   "execution_count": 38,
   "id": "201343c2-ea97-49c2-88f5-84f34e185628",
   "metadata": {},
   "outputs": [
    {
     "data": {
      "text/plain": [
       "(87, 2)"
      ]
     },
     "execution_count": 38,
     "metadata": {},
     "output_type": "execute_result"
    }
   ],
   "source": [
    "import pandas as pd\n",
    "from sklearn.model_selection import train_test_split\n",
    "from sklearn.ensemble import RandomForestClassifier\n",
    "from sklearn.feature_extraction.text import TfidfVectorizer\n",
    "from sklearn.metrics import accuracy_score\n",
    "\n",
    "df = pd.read_csv('data/devices-products-small.csv')\n",
    "\n",
    "df.shape"
   ]
  },
  {
   "cell_type": "code",
   "execution_count": 39,
   "id": "2a18878c-a6d4-474c-bbdc-62039f2577ef",
   "metadata": {},
   "outputs": [
    {
     "data": {
      "text/plain": [
       "Category\n",
       "computers    36\n",
       "tablets      29\n",
       "phones       22\n",
       "Name: count, dtype: int64"
      ]
     },
     "execution_count": 39,
     "metadata": {},
     "output_type": "execute_result"
    }
   ],
   "source": [
    "df['Category'].value_counts()"
   ]
  },
  {
   "cell_type": "code",
   "execution_count": 40,
   "id": "51ff9274-8f21-4c7a-876d-4dc81cfc6904",
   "metadata": {
    "scrolled": true
   },
   "outputs": [
    {
     "data": {
      "text/plain": [
       "array(['tablets', 'tablets', 'tablets', 'tablets', 'tablets', 'computers',\n",
       "       'phones', 'phones', 'tablets', 'computers', 'computers', 'tablets',\n",
       "       'computers', 'phones', 'computers', 'tablets', 'tablets', 'phones',\n",
       "       'phones', 'computers', 'computers', 'phones'], dtype=object)"
      ]
     },
     "execution_count": 40,
     "metadata": {},
     "output_type": "execute_result"
    }
   ],
   "source": [
    "x = df['Product'].values\n",
    "y = df['Category'].values\n",
    "\n",
    "x_train, x_test, y_train, y_test = train_test_split(x, y)\n",
    "\n",
    "# vectorize to convert strings in 'valuable numbers'\n",
    "tfidf_vectorizer = TfidfVectorizer()\n",
    "tfidf_x_train_vectors = tfidf_vectorizer.fit_transform(x_train)\n",
    "tfidf_test_vectors = tfidf_vectorizer.transform(x_test)\n",
    "\n",
    "\n",
    "clf = RandomForestClassifier()\n",
    "clf.fit(tfidf_x_train_vectors, y_train)\n",
    "\n",
    "y_pred = clf.predict(tfidf_test_vectors)\n",
    "\n",
    "y_pred"
   ]
  },
  {
   "cell_type": "code",
   "execution_count": 41,
   "id": "4adb4728-f6aa-405e-a3a4-822c28acc3de",
   "metadata": {
    "scrolled": true
   },
   "outputs": [
    {
     "data": {
      "text/html": [
       "<div>\n",
       "<style scoped>\n",
       "    .dataframe tbody tr th:only-of-type {\n",
       "        vertical-align: middle;\n",
       "    }\n",
       "\n",
       "    .dataframe tbody tr th {\n",
       "        vertical-align: top;\n",
       "    }\n",
       "\n",
       "    .dataframe thead th {\n",
       "        text-align: right;\n",
       "    }\n",
       "</style>\n",
       "<table border=\"1\" class=\"dataframe\">\n",
       "  <thead>\n",
       "    <tr style=\"text-align: right;\">\n",
       "      <th></th>\n",
       "      <th>product</th>\n",
       "      <th>predicted_category</th>\n",
       "      <th>real_category</th>\n",
       "    </tr>\n",
       "  </thead>\n",
       "  <tbody>\n",
       "    <tr>\n",
       "      <th>0</th>\n",
       "      <td>iPad Air 2</td>\n",
       "      <td>tablets</td>\n",
       "      <td>tablets</td>\n",
       "    </tr>\n",
       "    <tr>\n",
       "      <th>1</th>\n",
       "      <td>iPad Air</td>\n",
       "      <td>tablets</td>\n",
       "      <td>tablets</td>\n",
       "    </tr>\n",
       "    <tr>\n",
       "      <th>2</th>\n",
       "      <td>iPad Mini 2</td>\n",
       "      <td>tablets</td>\n",
       "      <td>tablets</td>\n",
       "    </tr>\n",
       "    <tr>\n",
       "      <th>3</th>\n",
       "      <td>iPad Pro (11-inch, 2nd generation)</td>\n",
       "      <td>tablets</td>\n",
       "      <td>tablets</td>\n",
       "    </tr>\n",
       "    <tr>\n",
       "      <th>4</th>\n",
       "      <td>iPad (4th generation)</td>\n",
       "      <td>tablets</td>\n",
       "      <td>tablets</td>\n",
       "    </tr>\n",
       "    <tr>\n",
       "      <th>5</th>\n",
       "      <td>MacBook Pro (2006)</td>\n",
       "      <td>computers</td>\n",
       "      <td>computers</td>\n",
       "    </tr>\n",
       "    <tr>\n",
       "      <th>6</th>\n",
       "      <td>Samsung Galaxy S5 (2014)</td>\n",
       "      <td>phones</td>\n",
       "      <td>phones</td>\n",
       "    </tr>\n",
       "    <tr>\n",
       "      <th>7</th>\n",
       "      <td>Samsung Galaxy S21 (2021)</td>\n",
       "      <td>phones</td>\n",
       "      <td>phones</td>\n",
       "    </tr>\n",
       "    <tr>\n",
       "      <th>8</th>\n",
       "      <td>iPad Pro (12.9-inch, 3rd generation)</td>\n",
       "      <td>tablets</td>\n",
       "      <td>tablets</td>\n",
       "    </tr>\n",
       "    <tr>\n",
       "      <th>9</th>\n",
       "      <td>MacBook Pro (Early 2008)</td>\n",
       "      <td>computers</td>\n",
       "      <td>computers</td>\n",
       "    </tr>\n",
       "    <tr>\n",
       "      <th>10</th>\n",
       "      <td>MacBook Pro (Retina, 13-inch, Early 2013)</td>\n",
       "      <td>computers</td>\n",
       "      <td>computers</td>\n",
       "    </tr>\n",
       "    <tr>\n",
       "      <th>11</th>\n",
       "      <td>iPad Pro (11-inch, 3rd generation)</td>\n",
       "      <td>tablets</td>\n",
       "      <td>tablets</td>\n",
       "    </tr>\n",
       "    <tr>\n",
       "      <th>12</th>\n",
       "      <td>MacBook Pro (13-inch, 2019, Two Thunderbolt 3 ...</td>\n",
       "      <td>computers</td>\n",
       "      <td>computers</td>\n",
       "    </tr>\n",
       "    <tr>\n",
       "      <th>13</th>\n",
       "      <td>Samsung Galaxy S7 (2016)</td>\n",
       "      <td>phones</td>\n",
       "      <td>phones</td>\n",
       "    </tr>\n",
       "    <tr>\n",
       "      <th>14</th>\n",
       "      <td>MacBook Pro (Retina, 13-inch, Early 2015)</td>\n",
       "      <td>computers</td>\n",
       "      <td>computers</td>\n",
       "    </tr>\n",
       "    <tr>\n",
       "      <th>15</th>\n",
       "      <td>iPad Mini (5th generation)</td>\n",
       "      <td>tablets</td>\n",
       "      <td>tablets</td>\n",
       "    </tr>\n",
       "    <tr>\n",
       "      <th>16</th>\n",
       "      <td>iPad Mini 4</td>\n",
       "      <td>tablets</td>\n",
       "      <td>tablets</td>\n",
       "    </tr>\n",
       "    <tr>\n",
       "      <th>17</th>\n",
       "      <td>Samsung Galaxy S10+ (2019)</td>\n",
       "      <td>phones</td>\n",
       "      <td>phones</td>\n",
       "    </tr>\n",
       "    <tr>\n",
       "      <th>18</th>\n",
       "      <td>Samsung Galaxy S6 Edge (2015)</td>\n",
       "      <td>phones</td>\n",
       "      <td>phones</td>\n",
       "    </tr>\n",
       "    <tr>\n",
       "      <th>19</th>\n",
       "      <td>MacBook Pro (13-inch, 2020, Two Thunderbolt 3 ...</td>\n",
       "      <td>computers</td>\n",
       "      <td>computers</td>\n",
       "    </tr>\n",
       "    <tr>\n",
       "      <th>20</th>\n",
       "      <td>MacBook Pro (16-inch, 2019)</td>\n",
       "      <td>computers</td>\n",
       "      <td>computers</td>\n",
       "    </tr>\n",
       "    <tr>\n",
       "      <th>21</th>\n",
       "      <td>Samsung Galaxy S III (2012)</td>\n",
       "      <td>phones</td>\n",
       "      <td>phones</td>\n",
       "    </tr>\n",
       "  </tbody>\n",
       "</table>\n",
       "</div>"
      ],
      "text/plain": [
       "                                              product predicted_category  \\\n",
       "0                                          iPad Air 2            tablets   \n",
       "1                                            iPad Air            tablets   \n",
       "2                                         iPad Mini 2            tablets   \n",
       "3                  iPad Pro (11-inch, 2nd generation)            tablets   \n",
       "4                               iPad (4th generation)            tablets   \n",
       "5                                  MacBook Pro (2006)          computers   \n",
       "6                            Samsung Galaxy S5 (2014)             phones   \n",
       "7                           Samsung Galaxy S21 (2021)             phones   \n",
       "8                iPad Pro (12.9-inch, 3rd generation)            tablets   \n",
       "9                            MacBook Pro (Early 2008)          computers   \n",
       "10          MacBook Pro (Retina, 13-inch, Early 2013)          computers   \n",
       "11                 iPad Pro (11-inch, 3rd generation)            tablets   \n",
       "12  MacBook Pro (13-inch, 2019, Two Thunderbolt 3 ...          computers   \n",
       "13                           Samsung Galaxy S7 (2016)             phones   \n",
       "14          MacBook Pro (Retina, 13-inch, Early 2015)          computers   \n",
       "15                         iPad Mini (5th generation)            tablets   \n",
       "16                                        iPad Mini 4            tablets   \n",
       "17                         Samsung Galaxy S10+ (2019)             phones   \n",
       "18                      Samsung Galaxy S6 Edge (2015)             phones   \n",
       "19  MacBook Pro (13-inch, 2020, Two Thunderbolt 3 ...          computers   \n",
       "20                        MacBook Pro (16-inch, 2019)          computers   \n",
       "21                        Samsung Galaxy S III (2012)             phones   \n",
       "\n",
       "   real_category  \n",
       "0        tablets  \n",
       "1        tablets  \n",
       "2        tablets  \n",
       "3        tablets  \n",
       "4        tablets  \n",
       "5      computers  \n",
       "6         phones  \n",
       "7         phones  \n",
       "8        tablets  \n",
       "9      computers  \n",
       "10     computers  \n",
       "11       tablets  \n",
       "12     computers  \n",
       "13        phones  \n",
       "14     computers  \n",
       "15       tablets  \n",
       "16       tablets  \n",
       "17        phones  \n",
       "18        phones  \n",
       "19     computers  \n",
       "20     computers  \n",
       "21        phones  "
      ]
     },
     "execution_count": 41,
     "metadata": {},
     "output_type": "execute_result"
    }
   ],
   "source": [
    "df_compare = pd.DataFrame(\n",
    "    data={\n",
    "        'product': x_test,\n",
    "        'predicted_category': y_pred,\n",
    "        'real_category': y_test\n",
    "    },\n",
    "    columns=['product', 'predicted_category', 'real_category']\n",
    ")\n",
    "\n",
    "df_compare"
   ]
  },
  {
   "cell_type": "code",
   "execution_count": 42,
   "id": "2d339f9c-6dfd-4ee1-a835-08b0cebd6d4d",
   "metadata": {},
   "outputs": [
    {
     "data": {
      "text/plain": [
       "1.0"
      ]
     },
     "execution_count": 42,
     "metadata": {},
     "output_type": "execute_result"
    }
   ],
   "source": [
    "accuracy_score(y_test, y_pred)"
   ]
  },
  {
   "cell_type": "code",
   "execution_count": 49,
   "id": "8e13f332-d7d9-4998-ba4b-e08ba4070488",
   "metadata": {},
   "outputs": [
    {
     "data": {
      "text/plain": [
       "array(['phones', 'tablets'], dtype=object)"
      ]
     },
     "execution_count": 49,
     "metadata": {},
     "output_type": "execute_result"
    }
   ],
   "source": [
    "future_x_test = tfidf_vectorizer.transform(['Samsung Galaxy S39', 'iPad Future'])\n",
    "\n",
    "future_y_pred = clf.predict(future_x_test)\n",
    "future_y_pred"
   ]
  },
  {
   "cell_type": "code",
   "execution_count": null,
   "id": "dc1dbc94-b36f-4448-b58c-56d99365e3fa",
   "metadata": {},
   "outputs": [],
   "source": []
  }
 ],
 "metadata": {
  "kernelspec": {
   "display_name": "Python 3 (ipykernel)",
   "language": "python",
   "name": "python3"
  },
  "language_info": {
   "codemirror_mode": {
    "name": "ipython",
    "version": 3
   },
   "file_extension": ".py",
   "mimetype": "text/x-python",
   "name": "python",
   "nbconvert_exporter": "python",
   "pygments_lexer": "ipython3",
   "version": "3.8.10"
  }
 },
 "nbformat": 4,
 "nbformat_minor": 5
}

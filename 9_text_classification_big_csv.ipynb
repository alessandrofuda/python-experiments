{
 "cells": [
  {
   "cell_type": "markdown",
   "id": "050d1ebb-94c9-43ed-8824-b4861f105e45",
   "metadata": {},
   "source": [
    "### Text classification bigger .csv (but ~90% accuracy score)\n"
   ]
  },
  {
   "cell_type": "code",
   "execution_count": 15,
   "id": "2a71b466-c129-43f0-8846-96c52b68d65e",
   "metadata": {},
   "outputs": [
    {
     "data": {
      "text/html": [
       "<div>\n",
       "<style scoped>\n",
       "    .dataframe tbody tr th:only-of-type {\n",
       "        vertical-align: middle;\n",
       "    }\n",
       "\n",
       "    .dataframe tbody tr th {\n",
       "        vertical-align: top;\n",
       "    }\n",
       "\n",
       "    .dataframe thead th {\n",
       "        text-align: right;\n",
       "    }\n",
       "</style>\n",
       "<table border=\"1\" class=\"dataframe\">\n",
       "  <thead>\n",
       "    <tr style=\"text-align: right;\">\n",
       "      <th></th>\n",
       "      <th>Product</th>\n",
       "      <th>Category</th>\n",
       "    </tr>\n",
       "  </thead>\n",
       "  <tbody>\n",
       "    <tr>\n",
       "      <th>0</th>\n",
       "      <td>Apple 13-inch MacBook Air (M1 CPU) 256GB - 2020</td>\n",
       "      <td>Laptop</td>\n",
       "    </tr>\n",
       "    <tr>\n",
       "      <th>1</th>\n",
       "      <td>Apple 13-inch MacBook Air (M1 CPU) 512GB - 2020</td>\n",
       "      <td>Laptop</td>\n",
       "    </tr>\n",
       "    <tr>\n",
       "      <th>2</th>\n",
       "      <td>Apple 13-inch MacBook Air with Retina display ...</td>\n",
       "      <td>Laptop</td>\n",
       "    </tr>\n",
       "    <tr>\n",
       "      <th>3</th>\n",
       "      <td>Apple 13-inch MacBook Air with Retina display ...</td>\n",
       "      <td>Laptop</td>\n",
       "    </tr>\n",
       "    <tr>\n",
       "      <th>4</th>\n",
       "      <td>Apple 13-inch MacBook Pro (1.4GHz quad-core CP...</td>\n",
       "      <td>Laptop</td>\n",
       "    </tr>\n",
       "  </tbody>\n",
       "</table>\n",
       "</div>"
      ],
      "text/plain": [
       "                                             Product Category\n",
       "0    Apple 13-inch MacBook Air (M1 CPU) 256GB - 2020   Laptop\n",
       "1    Apple 13-inch MacBook Air (M1 CPU) 512GB - 2020   Laptop\n",
       "2  Apple 13-inch MacBook Air with Retina display ...   Laptop\n",
       "3  Apple 13-inch MacBook Air with Retina display ...   Laptop\n",
       "4  Apple 13-inch MacBook Pro (1.4GHz quad-core CP...   Laptop"
      ]
     },
     "execution_count": 15,
     "metadata": {},
     "output_type": "execute_result"
    }
   ],
   "source": [
    "import pandas as pd\n",
    "import numpy as np\n",
    "from sklearn.feature_extraction.text import TfidfVectorizer\n",
    "from sklearn.model_selection import train_test_split\n",
    "\n",
    "from sklearn.ensemble import RandomForestClassifier\n",
    "from sklearn.metrics import accuracy_score\n",
    "\n",
    "df = pd.read_csv('data/devices-products.csv')\n",
    "\n",
    "df.head()"
   ]
  },
  {
   "cell_type": "code",
   "execution_count": 16,
   "id": "e28a19d2-8869-47c2-9d98-ba6f7b674495",
   "metadata": {},
   "outputs": [
    {
     "data": {
      "text/plain": [
       "(1226, 2)"
      ]
     },
     "execution_count": 16,
     "metadata": {},
     "output_type": "execute_result"
    }
   ],
   "source": [
    "df.shape"
   ]
  },
  {
   "cell_type": "code",
   "execution_count": 17,
   "id": "1cd277a4-07fc-468e-b258-edb98b6962eb",
   "metadata": {
    "scrolled": true
   },
   "outputs": [
    {
     "data": {
      "text/plain": [
       "Category\n",
       "Laptop            452\n",
       "Monitor           296\n",
       "Desktop           259\n",
       "Server             55\n",
       "Smartphone         50\n",
       "IoT                30\n",
       "Tablet             22\n",
       "Thin Client        16\n",
       "Printer            11\n",
       "Hard drive         11\n",
       "Gaming              5\n",
       "Workstation         4\n",
       "Multimedia          4\n",
       "Network             4\n",
       "Entertainment       2\n",
       "Converged Edge      2\n",
       "Converged           2\n",
       "SAN/NAS             1\n",
       "Name: count, dtype: int64"
      ]
     },
     "execution_count": 17,
     "metadata": {},
     "output_type": "execute_result"
    }
   ],
   "source": [
    "df['Category'].value_counts()"
   ]
  },
  {
   "cell_type": "code",
   "execution_count": 18,
   "id": "9c1333a0-2aa8-4f31-8d4c-383111dff7f3",
   "metadata": {},
   "outputs": [],
   "source": [
    "x = df['Product'].values\n",
    "y = df['Category'].values\n",
    "\n",
    "x_train, x_test, y_train, y_test = train_test_split(x, y, test_size=0.2, random_state=0)\n",
    "\n",
    "# vectorize\n",
    "tfidf_vectorizer = TfidfVectorizer()\n",
    "tfidf_x_train_vectors = tfidf_vectorizer.fit_transform(x_train)\n",
    "tfidf_test_vectors = tfidf_vectorizer.transform(x_test)\n",
    "\n",
    "# fit model and predict\n",
    "clf_random_forest = RandomForestClassifier()\n",
    "clf_random_forest.fit(tfidf_x_train_vectors, y_train)\n",
    "y_pred = clf_random_forest.predict(tfidf_test_vectors)\n"
   ]
  },
  {
   "cell_type": "code",
   "execution_count": 19,
   "id": "35003c56-5b78-4dcd-a596-ef147551ccff",
   "metadata": {
    "scrolled": true
   },
   "outputs": [
    {
     "data": {
      "text/html": [
       "<div>\n",
       "<style scoped>\n",
       "    .dataframe tbody tr th:only-of-type {\n",
       "        vertical-align: middle;\n",
       "    }\n",
       "\n",
       "    .dataframe tbody tr th {\n",
       "        vertical-align: top;\n",
       "    }\n",
       "\n",
       "    .dataframe thead th {\n",
       "        text-align: right;\n",
       "    }\n",
       "</style>\n",
       "<table border=\"1\" class=\"dataframe\">\n",
       "  <thead>\n",
       "    <tr style=\"text-align: right;\">\n",
       "      <th></th>\n",
       "      <th>product</th>\n",
       "      <th>predicted_category</th>\n",
       "      <th>real_category</th>\n",
       "    </tr>\n",
       "  </thead>\n",
       "  <tbody>\n",
       "    <tr>\n",
       "      <th>0</th>\n",
       "      <td>Lenovo ThinkPad T440s</td>\n",
       "      <td>Laptop</td>\n",
       "      <td>Laptop</td>\n",
       "    </tr>\n",
       "    <tr>\n",
       "      <th>1</th>\n",
       "      <td>Apple 13-inch MacBook Pro (2.0GHz quad-core CP...</td>\n",
       "      <td>Laptop</td>\n",
       "      <td>Laptop</td>\n",
       "    </tr>\n",
       "    <tr>\n",
       "      <th>2</th>\n",
       "      <td>Lenovo IdeaPad Slim 7 15/Yoga Slim 7 15</td>\n",
       "      <td>Laptop</td>\n",
       "      <td>Laptop</td>\n",
       "    </tr>\n",
       "    <tr>\n",
       "      <th>3</th>\n",
       "      <td>Dell E2220H Monitor</td>\n",
       "      <td>Monitor</td>\n",
       "      <td>Monitor</td>\n",
       "    </tr>\n",
       "    <tr>\n",
       "      <th>4</th>\n",
       "      <td>Lexmark CX924dxe</td>\n",
       "      <td>Printer</td>\n",
       "      <td>Printer</td>\n",
       "    </tr>\n",
       "    <tr>\n",
       "      <th>...</th>\n",
       "      <td>...</td>\n",
       "      <td>...</td>\n",
       "      <td>...</td>\n",
       "    </tr>\n",
       "    <tr>\n",
       "      <th>241</th>\n",
       "      <td>Dell PowerEdge T130</td>\n",
       "      <td>Server</td>\n",
       "      <td>Server</td>\n",
       "    </tr>\n",
       "    <tr>\n",
       "      <th>242</th>\n",
       "      <td>Apple 14-inch MacBook Pro with 64GB</td>\n",
       "      <td>Laptop</td>\n",
       "      <td>Laptop</td>\n",
       "    </tr>\n",
       "    <tr>\n",
       "      <th>243</th>\n",
       "      <td>Seagate Makara HDD 8TB</td>\n",
       "      <td>Hard drive</td>\n",
       "      <td>Hard drive</td>\n",
       "    </tr>\n",
       "    <tr>\n",
       "      <th>244</th>\n",
       "      <td>HP E24i G4 HO</td>\n",
       "      <td>Monitor</td>\n",
       "      <td>Monitor</td>\n",
       "    </tr>\n",
       "    <tr>\n",
       "      <th>245</th>\n",
       "      <td>Dell OptiPlex 7780 All-in-One Desktop</td>\n",
       "      <td>Desktop</td>\n",
       "      <td>Desktop</td>\n",
       "    </tr>\n",
       "  </tbody>\n",
       "</table>\n",
       "<p>246 rows × 3 columns</p>\n",
       "</div>"
      ],
      "text/plain": [
       "                                               product predicted_category  \\\n",
       "0                                Lenovo ThinkPad T440s             Laptop   \n",
       "1    Apple 13-inch MacBook Pro (2.0GHz quad-core CP...             Laptop   \n",
       "2              Lenovo IdeaPad Slim 7 15/Yoga Slim 7 15             Laptop   \n",
       "3                                  Dell E2220H Monitor            Monitor   \n",
       "4                                     Lexmark CX924dxe            Printer   \n",
       "..                                                 ...                ...   \n",
       "241                                Dell PowerEdge T130             Server   \n",
       "242                Apple 14-inch MacBook Pro with 64GB             Laptop   \n",
       "243                             Seagate Makara HDD 8TB         Hard drive   \n",
       "244                                      HP E24i G4 HO            Monitor   \n",
       "245              Dell OptiPlex 7780 All-in-One Desktop            Desktop   \n",
       "\n",
       "    real_category  \n",
       "0          Laptop  \n",
       "1          Laptop  \n",
       "2          Laptop  \n",
       "3         Monitor  \n",
       "4         Printer  \n",
       "..            ...  \n",
       "241        Server  \n",
       "242        Laptop  \n",
       "243    Hard drive  \n",
       "244       Monitor  \n",
       "245       Desktop  \n",
       "\n",
       "[246 rows x 3 columns]"
      ]
     },
     "execution_count": 19,
     "metadata": {},
     "output_type": "execute_result"
    }
   ],
   "source": [
    "df_compare = pd.DataFrame(\n",
    "    data={\n",
    "        'product': x_test,\n",
    "        'predicted_category': y_pred,\n",
    "        'real_category': y_test\n",
    "    },\n",
    "    columns=['product', 'predicted_category', 'real_category']\n",
    ")\n",
    "\n",
    "df_compare"
   ]
  },
  {
   "cell_type": "code",
   "execution_count": 20,
   "id": "5b520f2e-ee14-4801-9b27-657637087a41",
   "metadata": {},
   "outputs": [
    {
     "data": {
      "text/plain": [
       "0.9146341463414634"
      ]
     },
     "execution_count": 20,
     "metadata": {},
     "output_type": "execute_result"
    }
   ],
   "source": [
    "accuracy_score(y_test, y_pred)"
   ]
  },
  {
   "cell_type": "code",
   "execution_count": null,
   "id": "1926f115-6e80-46ec-b06a-e98bad132c58",
   "metadata": {},
   "outputs": [],
   "source": []
  }
 ],
 "metadata": {
  "kernelspec": {
   "display_name": "Python 3 (ipykernel)",
   "language": "python",
   "name": "python3"
  },
  "language_info": {
   "codemirror_mode": {
    "name": "ipython",
    "version": 3
   },
   "file_extension": ".py",
   "mimetype": "text/x-python",
   "name": "python",
   "nbconvert_exporter": "python",
   "pygments_lexer": "ipython3",
   "version": "3.8.10"
  }
 },
 "nbformat": 4,
 "nbformat_minor": 5
}
